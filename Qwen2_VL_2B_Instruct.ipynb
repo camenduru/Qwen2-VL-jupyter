{
  "cells": [
    {
      "cell_type": "markdown",
      "metadata": {
        "id": "view-in-github"
      },
      "source": [
        "[![Open In Colab](https://colab.research.google.com/assets/colab-badge.svg)](https://colab.research.google.com/github/camenduru/Qwen2-VL-jupyter/blob/main/Qwen2_VL_2B_Instruct.ipynb)"
      ]
    },
    {
      "cell_type": "code",
      "execution_count": null,
      "metadata": {
        "id": "VjYy0F2gZIPR"
      },
      "outputs": [],
      "source": [
        "# !pip install -q tiktoken transformers_stream_generator gradio optimum auto-gptq\n",
        "!pip install -q modelscope -f https://pypi.org/project/modelscope\n",
        "\n",
        "!apt -y install -qq aria2\n",
        "\n",
        "!aria2c --console-log-level=error -c -x 16 -s 16 -k 1M https://huggingface.co/4bit/Qwen2-VL-2B-Instruct/raw/main/chat_template.json -d /content/Qwen2-VL-2B-Instruct -o chat_template.json\n",
        "!aria2c --console-log-level=error -c -x 16 -s 16 -k 1M https://huggingface.co/4bit/Qwen2-VL-2B-Instruct/raw/main/config.json -d /content/Qwen2-VL-2B-Instruct -o config.json\n",
        "!aria2c --console-log-level=error -c -x 16 -s 16 -k 1M https://huggingface.co/4bit/Qwen2-VL-2B-Instruct/raw/main/generation_config.json -d /content/Qwen2-VL-2B-Instruct -o generation_config.json\n",
        "!aria2c --console-log-level=error -c -x 16 -s 16 -k 1M https://huggingface.co/4bit/Qwen2-VL-2B-Instruct/raw/main/merges.txt -d /content/Qwen2-VL-2B-Instruct -o merges.txt\n",
        "!aria2c --console-log-level=error -c -x 16 -s 16 -k 1M https://huggingface.co/4bit/Qwen2-VL-2B-Instruct/resolve/main/model-00001-of-00002.safetensors -d /content/Qwen2-VL-2B-Instruct -o model-00001-of-00002.safetensors\n",
        "!aria2c --console-log-level=error -c -x 16 -s 16 -k 1M https://huggingface.co/4bit/Qwen2-VL-2B-Instruct/resolve/main/model-00002-of-00002.safetensors -d /content/Qwen2-VL-2B-Instruct -o model-00002-of-00002.safetensors\n",
        "!aria2c --console-log-level=error -c -x 16 -s 16 -k 1M https://huggingface.co/4bit/Qwen2-VL-2B-Instruct/raw/main/model.safetensors.index.json -d /content/Qwen2-VL-2B-Instruct -o model.safetensors.index.json\n",
        "!aria2c --console-log-level=error -c -x 16 -s 16 -k 1M https://huggingface.co/4bit/Qwen2-VL-2B-Instruct/raw/main/preprocessor_config.json -d /content/Qwen2-VL-2B-Instruct -o preprocessor_config.json\n",
        "!aria2c --console-log-level=error -c -x 16 -s 16 -k 1M https://huggingface.co/4bit/Qwen2-VL-2B-Instruct/raw/main/tokenizer.json -d /content/Qwen2-VL-2B-Instruct -o tokenizer.json\n",
        "!aria2c --console-log-level=error -c -x 16 -s 16 -k 1M https://huggingface.co/4bit/Qwen2-VL-2B-Instruct/raw/main/tokenizer_config.json -d /content/Qwen2-VL-2B-Instruct -o tokenizer_config.json\n",
        "!aria2c --console-log-level=error -c -x 16 -s 16 -k 1M https://huggingface.co/4bit/Qwen2-VL-2B-Instruct/raw/main/vocab.json -d /content/Qwen2-VL-2B-Instruct -o vocab.json\n",
        "\n",
        "tokenizer = AutoTokenizer.from_pretrained(\"/content/Qwen2-VL-2B-Instruct\", trust_remote_code=True, resume_download=True,)\n",
        "model = AutoModelForCausalLM.from_pretrained(\"/content/Qwen2-VL-2B-Instruct\",device_map=\"auto\",trust_remote_code=True,resume_download=True,).eval()\n",
        "model.generation_config = GenerationConfig.from_pretrained(\"/content/Qwen2-VL-2B-Instruct\", trust_remote_code=True, resume_download=True,)"
      ]
    }
  ],
  "metadata": {
    "accelerator": "GPU",
    "colab": {
      "gpuType": "T4",
      "provenance": []
    },
    "kernelspec": {
      "display_name": "Python 3",
      "name": "python3"
    },
    "language_info": {
      "name": "python"
    }
  },
  "nbformat": 4,
  "nbformat_minor": 0
}
